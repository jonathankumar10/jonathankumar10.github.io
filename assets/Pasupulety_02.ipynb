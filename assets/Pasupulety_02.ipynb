{
 "cells": [
  {
   "cell_type": "code",
   "execution_count": 1,
   "metadata": {},
   "outputs": [],
   "source": [
    "import matplotlib as plt\n",
    "import pandas as pd\n",
    "import numpy as np\n",
    "from math import sqrt\n",
    "import matplotlib.pyplot as plt"
   ]
  },
  {
   "cell_type": "markdown",
   "metadata": {},
   "source": [
    "## Load and process Data."
   ]
  },
  {
   "cell_type": "code",
   "execution_count": 2,
   "metadata": {},
   "outputs": [],
   "source": [
    "#read file from dataset directory\n",
    "filename = 'Dataset/iris.data'\n",
    "df = pd.read_csv(filename, header = None)\n",
    "\n",
    "#create columns\n",
    "df.columns = [\"sepal length\", \"sepal width\", \"petal length\", \"petal width\", \"Class\"]\n",
    "\n",
    "# #Convert class names into values\n",
    "df.Class.replace(('Iris-setosa','Iris-versicolor','Iris-virginica'),(1,2,3), inplace=True)"
   ]
  },
  {
   "cell_type": "code",
   "execution_count": 3,
   "metadata": {},
   "outputs": [
    {
     "data": {
      "text/html": [
       "<div>\n",
       "<style scoped>\n",
       "    .dataframe tbody tr th:only-of-type {\n",
       "        vertical-align: middle;\n",
       "    }\n",
       "\n",
       "    .dataframe tbody tr th {\n",
       "        vertical-align: top;\n",
       "    }\n",
       "\n",
       "    .dataframe thead th {\n",
       "        text-align: right;\n",
       "    }\n",
       "</style>\n",
       "<table border=\"1\" class=\"dataframe\">\n",
       "  <thead>\n",
       "    <tr style=\"text-align: right;\">\n",
       "      <th></th>\n",
       "      <th>sepal length</th>\n",
       "      <th>sepal width</th>\n",
       "      <th>petal length</th>\n",
       "      <th>petal width</th>\n",
       "      <th>Class</th>\n",
       "    </tr>\n",
       "  </thead>\n",
       "  <tbody>\n",
       "    <tr>\n",
       "      <th>0</th>\n",
       "      <td>5.1</td>\n",
       "      <td>3.5</td>\n",
       "      <td>1.4</td>\n",
       "      <td>0.2</td>\n",
       "      <td>1</td>\n",
       "    </tr>\n",
       "    <tr>\n",
       "      <th>1</th>\n",
       "      <td>4.9</td>\n",
       "      <td>3.0</td>\n",
       "      <td>1.4</td>\n",
       "      <td>0.2</td>\n",
       "      <td>1</td>\n",
       "    </tr>\n",
       "    <tr>\n",
       "      <th>2</th>\n",
       "      <td>4.7</td>\n",
       "      <td>3.2</td>\n",
       "      <td>1.3</td>\n",
       "      <td>0.2</td>\n",
       "      <td>1</td>\n",
       "    </tr>\n",
       "    <tr>\n",
       "      <th>3</th>\n",
       "      <td>4.6</td>\n",
       "      <td>3.1</td>\n",
       "      <td>1.5</td>\n",
       "      <td>0.2</td>\n",
       "      <td>1</td>\n",
       "    </tr>\n",
       "    <tr>\n",
       "      <th>4</th>\n",
       "      <td>5.0</td>\n",
       "      <td>3.6</td>\n",
       "      <td>1.4</td>\n",
       "      <td>0.2</td>\n",
       "      <td>1</td>\n",
       "    </tr>\n",
       "    <tr>\n",
       "      <th>...</th>\n",
       "      <td>...</td>\n",
       "      <td>...</td>\n",
       "      <td>...</td>\n",
       "      <td>...</td>\n",
       "      <td>...</td>\n",
       "    </tr>\n",
       "    <tr>\n",
       "      <th>145</th>\n",
       "      <td>6.7</td>\n",
       "      <td>3.0</td>\n",
       "      <td>5.2</td>\n",
       "      <td>2.3</td>\n",
       "      <td>3</td>\n",
       "    </tr>\n",
       "    <tr>\n",
       "      <th>146</th>\n",
       "      <td>6.3</td>\n",
       "      <td>2.5</td>\n",
       "      <td>5.0</td>\n",
       "      <td>1.9</td>\n",
       "      <td>3</td>\n",
       "    </tr>\n",
       "    <tr>\n",
       "      <th>147</th>\n",
       "      <td>6.5</td>\n",
       "      <td>3.0</td>\n",
       "      <td>5.2</td>\n",
       "      <td>2.0</td>\n",
       "      <td>3</td>\n",
       "    </tr>\n",
       "    <tr>\n",
       "      <th>148</th>\n",
       "      <td>6.2</td>\n",
       "      <td>3.4</td>\n",
       "      <td>5.4</td>\n",
       "      <td>2.3</td>\n",
       "      <td>3</td>\n",
       "    </tr>\n",
       "    <tr>\n",
       "      <th>149</th>\n",
       "      <td>5.9</td>\n",
       "      <td>3.0</td>\n",
       "      <td>5.1</td>\n",
       "      <td>1.8</td>\n",
       "      <td>3</td>\n",
       "    </tr>\n",
       "  </tbody>\n",
       "</table>\n",
       "<p>150 rows × 5 columns</p>\n",
       "</div>"
      ],
      "text/plain": [
       "     sepal length  sepal width  petal length  petal width  Class\n",
       "0             5.1          3.5           1.4          0.2      1\n",
       "1             4.9          3.0           1.4          0.2      1\n",
       "2             4.7          3.2           1.3          0.2      1\n",
       "3             4.6          3.1           1.5          0.2      1\n",
       "4             5.0          3.6           1.4          0.2      1\n",
       "..            ...          ...           ...          ...    ...\n",
       "145           6.7          3.0           5.2          2.3      3\n",
       "146           6.3          2.5           5.0          1.9      3\n",
       "147           6.5          3.0           5.2          2.0      3\n",
       "148           6.2          3.4           5.4          2.3      3\n",
       "149           5.9          3.0           5.1          1.8      3\n",
       "\n",
       "[150 rows x 5 columns]"
      ]
     },
     "execution_count": 3,
     "metadata": {},
     "output_type": "execute_result"
    }
   ],
   "source": [
    "#Dataset to be used for normal Euclidean distance and Cosine Similarity\n",
    "df"
   ]
  },
  {
   "cell_type": "code",
   "execution_count": 4,
   "metadata": {},
   "outputs": [],
   "source": [
    "#data chosen for normalization\n",
    "data = df.iloc[0:,0:4]\n",
    "x = data.values.tolist()"
   ]
  },
  {
   "cell_type": "code",
   "execution_count": 5,
   "metadata": {},
   "outputs": [],
   "source": [
    "#Calculate MinMax\n",
    "# df_list = df.values.tolist()\n",
    "minmax = list()\n",
    "for i in range(len(x[0])):\n",
    "    col_values = [row[i] for row in x]\n",
    "    value_min = min(col_values)\n",
    "    value_max = max(col_values)\n",
    "    minmax.append([value_min, value_max])\n",
    "    \n",
    "#Calculate Normalized dataset\n",
    "normalizedList = list(x)\n",
    "for row in normalizedList:\n",
    "    for i in range(len(row)):\n",
    "        row[i] = (row[i] - minmax[i][0]) / (minmax[i][1] - minmax[i][0])"
   ]
  },
  {
   "cell_type": "code",
   "execution_count": 6,
   "metadata": {},
   "outputs": [],
   "source": [
    "df_normalized = pd.DataFrame(normalizedList)"
   ]
  },
  {
   "cell_type": "code",
   "execution_count": 7,
   "metadata": {},
   "outputs": [],
   "source": [
    "df_normalized['Class'] = df['Class'].values\n",
    "df_normalized.columns = [\"sepal length\", \"sepal width\", \"petal length\", \"petal width\", \"Class\"]"
   ]
  },
  {
   "cell_type": "markdown",
   "metadata": {},
   "source": [
    "Dataset to be used for Normalized Euclidean distance "
   ]
  },
  {
   "cell_type": "code",
   "execution_count": 124,
   "metadata": {},
   "outputs": [],
   "source": [
    "# df_normalized"
   ]
  },
  {
   "cell_type": "code",
   "execution_count": 9,
   "metadata": {},
   "outputs": [],
   "source": [
    "from sklearn.model_selection import train_test_split"
   ]
  },
  {
   "cell_type": "markdown",
   "metadata": {},
   "source": [
    "## Divide the dataset as train, development and test. Make sure randomly divide the dataset."
   ]
  },
  {
   "cell_type": "code",
   "execution_count": 10,
   "metadata": {},
   "outputs": [],
   "source": [
    "#Dividing the data for development and test data split\n",
    "x = df.iloc[0:,0:4]\n",
    "y = df.iloc[0:,-1]\n",
    "x_normalized = df_normalized.iloc[0:,0:4]\n",
    "y_normalized = df_normalized.iloc[0:,-1]"
   ]
  },
  {
   "cell_type": "code",
   "execution_count": 11,
   "metadata": {},
   "outputs": [],
   "source": [
    "X_train, X_test_dev, y_train, y_test_dev = train_test_split(x,y,test_size = 0.4)\n",
    "X_normalized_train, X_normalized_test_dev, y_normalized_train, y_normalized_test_dev = train_test_split(x_normalized,y_normalized,test_size = 0.4)"
   ]
  },
  {
   "cell_type": "code",
   "execution_count": 12,
   "metadata": {},
   "outputs": [],
   "source": [
    "df_train = X_train\n",
    "df_test_dev = X_test_dev\n",
    "df_normalized_train = X_normalized_train\n",
    "df_normalized_test_dev = X_normalized_test_dev"
   ]
  },
  {
   "cell_type": "code",
   "execution_count": 14,
   "metadata": {},
   "outputs": [
    {
     "name": "stderr",
     "output_type": "stream",
     "text": [
      "<ipython-input-14-4aed76c3dbca>:1: SettingWithCopyWarning: \n",
      "A value is trying to be set on a copy of a slice from a DataFrame.\n",
      "Try using .loc[row_indexer,col_indexer] = value instead\n",
      "\n",
      "See the caveats in the documentation: https://pandas.pydata.org/pandas-docs/stable/user_guide/indexing.html#returning-a-view-versus-a-copy\n",
      "  df_train['Class'] = y_train\n",
      "<ipython-input-14-4aed76c3dbca>:2: SettingWithCopyWarning: \n",
      "A value is trying to be set on a copy of a slice from a DataFrame.\n",
      "Try using .loc[row_indexer,col_indexer] = value instead\n",
      "\n",
      "See the caveats in the documentation: https://pandas.pydata.org/pandas-docs/stable/user_guide/indexing.html#returning-a-view-versus-a-copy\n",
      "  df_test_dev['Class'] = y_test_dev\n",
      "<ipython-input-14-4aed76c3dbca>:3: SettingWithCopyWarning: \n",
      "A value is trying to be set on a copy of a slice from a DataFrame.\n",
      "Try using .loc[row_indexer,col_indexer] = value instead\n",
      "\n",
      "See the caveats in the documentation: https://pandas.pydata.org/pandas-docs/stable/user_guide/indexing.html#returning-a-view-versus-a-copy\n",
      "  df_normalized_train['Class'] = y_normalized_train\n",
      "<ipython-input-14-4aed76c3dbca>:4: SettingWithCopyWarning: \n",
      "A value is trying to be set on a copy of a slice from a DataFrame.\n",
      "Try using .loc[row_indexer,col_indexer] = value instead\n",
      "\n",
      "See the caveats in the documentation: https://pandas.pydata.org/pandas-docs/stable/user_guide/indexing.html#returning-a-view-versus-a-copy\n",
      "  df_normalized_test_dev['Class'] = y_normalized_test_dev\n"
     ]
    }
   ],
   "source": [
    "df_train['Class'] = y_train\n",
    "df_test_dev['Class'] = y_test_dev\n",
    "df_normalized_train['Class'] = y_normalized_train\n",
    "df_normalized_test_dev['Class'] = y_normalized_test_dev"
   ]
  },
  {
   "cell_type": "code",
   "execution_count": 15,
   "metadata": {},
   "outputs": [],
   "source": [
    "a = df_test_dev.iloc[0:,0:4]\n",
    "b = df_test_dev.iloc[0:,-1]\n",
    "a_normalized = df_normalized_test_dev.iloc[0:,0:4]\n",
    "b_normalized = df_normalized_test_dev.iloc[0:,-1]"
   ]
  },
  {
   "cell_type": "code",
   "execution_count": 16,
   "metadata": {},
   "outputs": [],
   "source": [
    "X_dev, X_test, y_dev, y_test = train_test_split(a,b,test_size = 0.5)\n",
    "X_normalized_dev, X_normalized_test, y_normalized_dev, y_normalized_test = train_test_split(a_normalized,b_normalized,test_size = 0.5)"
   ]
  },
  {
   "cell_type": "code",
   "execution_count": 17,
   "metadata": {},
   "outputs": [],
   "source": [
    "df_dev = X_dev\n",
    "df_test = X_test\n",
    "df_normalized_dev = X_normalized_dev\n",
    "df_normalized_test = X_normalized_test"
   ]
  },
  {
   "cell_type": "code",
   "execution_count": 18,
   "metadata": {},
   "outputs": [
    {
     "name": "stderr",
     "output_type": "stream",
     "text": [
      "<ipython-input-18-caadb1560127>:1: SettingWithCopyWarning: \n",
      "A value is trying to be set on a copy of a slice from a DataFrame.\n",
      "Try using .loc[row_indexer,col_indexer] = value instead\n",
      "\n",
      "See the caveats in the documentation: https://pandas.pydata.org/pandas-docs/stable/user_guide/indexing.html#returning-a-view-versus-a-copy\n",
      "  df_dev['Class'] = y_dev\n",
      "<ipython-input-18-caadb1560127>:2: SettingWithCopyWarning: \n",
      "A value is trying to be set on a copy of a slice from a DataFrame.\n",
      "Try using .loc[row_indexer,col_indexer] = value instead\n",
      "\n",
      "See the caveats in the documentation: https://pandas.pydata.org/pandas-docs/stable/user_guide/indexing.html#returning-a-view-versus-a-copy\n",
      "  df_test['Class'] = y_test\n",
      "<ipython-input-18-caadb1560127>:3: SettingWithCopyWarning: \n",
      "A value is trying to be set on a copy of a slice from a DataFrame.\n",
      "Try using .loc[row_indexer,col_indexer] = value instead\n",
      "\n",
      "See the caveats in the documentation: https://pandas.pydata.org/pandas-docs/stable/user_guide/indexing.html#returning-a-view-versus-a-copy\n",
      "  df_normalized_dev['Class'] = y_normalized_dev\n",
      "<ipython-input-18-caadb1560127>:4: SettingWithCopyWarning: \n",
      "A value is trying to be set on a copy of a slice from a DataFrame.\n",
      "Try using .loc[row_indexer,col_indexer] = value instead\n",
      "\n",
      "See the caveats in the documentation: https://pandas.pydata.org/pandas-docs/stable/user_guide/indexing.html#returning-a-view-versus-a-copy\n",
      "  df_normalized_test['Class'] = y_normalized_test\n"
     ]
    }
   ],
   "source": [
    "df_dev['Class'] = y_dev\n",
    "df_test['Class'] = y_test\n",
    "df_normalized_dev['Class'] = y_normalized_dev\n",
    "df_normalized_test['Class'] = y_normalized_test"
   ]
  },
  {
   "cell_type": "code",
   "execution_count": 19,
   "metadata": {},
   "outputs": [],
   "source": [
    "df_train_list = df_train.values.tolist()\n",
    "df_train_normalized_list = df_normalized_train.values.tolist()\n",
    "df_dev_list = df_dev.values.tolist()\n",
    "df_dev_normalized_list = df_normalized_dev.values.tolist()\n",
    "df_test_list = df_test.values.tolist()\n",
    "df_test_normalized_list = df_normalized_test.values.tolist()"
   ]
  },
  {
   "cell_type": "markdown",
   "metadata": {},
   "source": [
    "Train data and normalized train data list"
   ]
  },
  {
   "cell_type": "code",
   "execution_count": 20,
   "metadata": {},
   "outputs": [],
   "source": [
    "# df_train_list\n",
    "# df_train_normalized_list"
   ]
  },
  {
   "cell_type": "markdown",
   "metadata": {},
   "source": [
    "Dev data and normalized dev data list"
   ]
  },
  {
   "cell_type": "code",
   "execution_count": 21,
   "metadata": {},
   "outputs": [],
   "source": [
    "# df_dev_list\n",
    "# df_dev_normalized_list"
   ]
  },
  {
   "cell_type": "markdown",
   "metadata": {},
   "source": [
    "Test data and normalized test data list"
   ]
  },
  {
   "cell_type": "code",
   "execution_count": 22,
   "metadata": {},
   "outputs": [],
   "source": [
    "# df_test_list\n",
    "# df_test_normalized_list"
   ]
  },
  {
   "cell_type": "markdown",
   "metadata": {},
   "source": [
    "## Implement kNN using the following hyperparameters"
   ]
  },
  {
   "cell_type": "markdown",
   "metadata": {},
   "source": [
    "number of neighbor K -> 1,3,5,7"
   ]
  },
  {
   "cell_type": "code",
   "execution_count": 23,
   "metadata": {},
   "outputs": [],
   "source": [
    "k_neighbors = [1,3,5,7]"
   ]
  },
  {
   "cell_type": "markdown",
   "metadata": {},
   "source": [
    "Distance metrics:"
   ]
  },
  {
   "cell_type": "code",
   "execution_count": 97,
   "metadata": {},
   "outputs": [],
   "source": [
    "class KNN(object):\n",
    "    def __init__(self,k):\n",
    "        self.k = k\n",
    "    \n",
    "    #Cosine similarity for datasets\n",
    "    def cos_sim(self,row1, row2):\n",
    "        sum = 0\n",
    "        sum1 = 0\n",
    "        sum2 = 0\n",
    "        for i in range(len(row)-1):\n",
    "            for i,j in zip(row1,row2):\n",
    "                sum1 += i*i\n",
    "                sum2 += j*j\n",
    "                sum += i*j \n",
    "            cos = sum/((sqrt(sum1))*(sqrt(sum2)))\n",
    "        return (1-cos)\n",
    "    \n",
    "\n",
    "    #Calculate Euclidean Distance between 2 vectors/rows.\n",
    "    def calculateEuclideanDistance(self,row1, row2):\n",
    "        for i in range(len(row1)-1):\n",
    "            sum_sq = np.sum(np.square(row1[i] - row2[i]))\n",
    "            a = (np.sqrt(sum_sq))\n",
    "        return a\n",
    "    \n",
    "    #Prediction for cosine \n",
    "    def predictCosine(self, train,test_row, num_neighbors):\n",
    "        distances = []\n",
    "        for i in range(len(train)):\n",
    "            dist = self.cos_sim(train[i][:-1], test_row)\n",
    "            distances.append((train[i],dist))\n",
    "        distances.sort(key = lambda x:x[1])\n",
    "        \n",
    "        neighbors = []\n",
    "        for i in range(num_neighbors):\n",
    "            neighbors.append(distances[i][0])\n",
    "            \n",
    "        classes = {}\n",
    "        for i in range(len(neighbors)):\n",
    "            a = neighbors[i][-1]\n",
    "            if a in classes:\n",
    "                classes[a] += 1\n",
    "            else:\n",
    "                classes[a] = 1\n",
    "                \n",
    "        sorted_class= sorted(classes.items(), key = lambda x:x[1], reverse = True)\n",
    "        return sorted_class[0][0]\n",
    "    \n",
    "    #Prediction for euclidean and normalized euclidean\n",
    "    def predict(self, train,test_row, num_neighbors):\n",
    "        distances = []\n",
    "        for i in range(len(train)):\n",
    "            dist = self.calculateEuclideanDistance(train[i][:-1], test_row)\n",
    "            distances.append((train[i],dist))\n",
    "        distances.sort(key = lambda x:x[1])\n",
    "        \n",
    "        neighbors = []\n",
    "        for i in range(num_neighbors):\n",
    "            neighbors.append(distances[i][0])\n",
    "            \n",
    "        classes = {}\n",
    "        for i in range(len(neighbors)):\n",
    "            a = neighbors[i][-1]\n",
    "            if a in classes:\n",
    "                classes[a] += 1\n",
    "            else:\n",
    "                classes[a] = 1\n",
    "                \n",
    "        sorted_class= sorted(classes.items(), key = lambda x:x[1], reverse = True)\n",
    "        return sorted_class[0][0]\n",
    "    \n",
    "    def evaluate(self,actual, predicted):\n",
    "        correct = 0\n",
    "        for act,pred in zip(actual,predicted):\n",
    "            if act == pred:\n",
    "                correct += 1\n",
    "        return correct/len(actual)"
   ]
  },
  {
   "cell_type": "code",
   "execution_count": 181,
   "metadata": {},
   "outputs": [],
   "source": [
    "knn = KNN(1)"
   ]
  },
  {
   "cell_type": "markdown",
   "metadata": {},
   "source": [
    "## Calculating accuracy using Train and Development dataset , finding optimal hyper parameters and drawing bar charts for accuracy"
   ]
  },
  {
   "cell_type": "markdown",
   "metadata": {},
   "source": [
    "### Drawing Graphs for visual representation of all three distance metrics and all values of k_neighbors"
   ]
  },
  {
   "cell_type": "code",
   "execution_count": 182,
   "metadata": {},
   "outputs": [],
   "source": [
    "kevseuc = []\n",
    "score_euclidean = []\n",
    "for i in k_neighbors:\n",
    "    pred_euclidean = []\n",
    "    for row in df_dev_list:\n",
    "        predict_only = row[:-1]\n",
    "        prediction = knn.predict(df_train_list,predict_only,i)\n",
    "        pred_euclidean.append(prediction)\n",
    "\n",
    "    actual = np.array(df_dev_list)[:,-1]\n",
    "    score_euclidean.append(knn.evaluate(actual, pred_euclidean))\n",
    "    acc = knn.evaluate(actual, pred_euclidean)\n",
    "    kevseuc.append((i,acc))"
   ]
  },
  {
   "cell_type": "code",
   "execution_count": 183,
   "metadata": {},
   "outputs": [
    {
     "data": {
      "text/plain": [
       "[(1, 0.8333333333333334),\n",
       " (3, 0.9333333333333333),\n",
       " (5, 0.9),\n",
       " (7, 0.9333333333333333)]"
      ]
     },
     "execution_count": 183,
     "metadata": {},
     "output_type": "execute_result"
    }
   ],
   "source": [
    "kevseuc"
   ]
  },
  {
   "cell_type": "code",
   "execution_count": 184,
   "metadata": {},
   "outputs": [
    {
     "data": {
      "image/png": "[encoded data removed]",
      "text/plain": [
       "<Figure size 432x288 with 1 Axes>"
      ]
     },
     "metadata": {
      "needs_background": "light"
     },
     "output_type": "display_data"
    }
   ],
   "source": [
    "fig = plt.figure()\n",
    "ax = fig.add_axes([0,0,1,1])\n",
    "ax.bar(k_neighbors, score_euclidean, width =1.5, label = 'Accuracy', color = 'black')\n",
    "ax.set_ylabel('Accuracy')\n",
    "ax.set_xlabel('Neighbors')\n",
    "ax.set_title('Accuracy for Euclidean distance metric for K = 1,3,5,7')\n",
    "ax.set_xticks(k_neighbors)\n",
    "plt.ylim((0.8,1))\n",
    "plt.grid(True)\n",
    "plt.legend(loc = 'upper left')\n",
    "plt.show()"
   ]
  },
  {
   "cell_type": "code",
   "execution_count": 185,
   "metadata": {},
   "outputs": [],
   "source": [
    "kevscos = []\n",
    "score_cosine = []\n",
    "for i in k_neighbors:\n",
    "    pred_cosine = []\n",
    "    for row in df_dev_list:\n",
    "        predict_only = row[:-1]\n",
    "        prediction = knn.predictCosine(df_train_list,predict_only,i)\n",
    "        pred_cosine.append(prediction)\n",
    "\n",
    "    actual = np.array(df_dev_list)[:,-1]\n",
    "    score_cosine.append(knn.evaluate(actual, pred_cosine))\n",
    "    acc = knn.evaluate(actual, pred_cosine)\n",
    "    kevscos.append((i,acc))"
   ]
  },
  {
   "cell_type": "code",
   "execution_count": 186,
   "metadata": {},
   "outputs": [
    {
     "data": {
      "text/plain": [
       "[(1, 0.9666666666666667),\n",
       " (3, 0.9666666666666667),\n",
       " (5, 0.9666666666666667),\n",
       " (7, 0.9333333333333333)]"
      ]
     },
     "execution_count": 186,
     "metadata": {},
     "output_type": "execute_result"
    }
   ],
   "source": [
    "kevscos"
   ]
  },
  {
   "cell_type": "code",
   "execution_count": 187,
   "metadata": {},
   "outputs": [
    {
     "data": {
      "image/png": "[encoded data removed]",
      "text/plain": [
       "<Figure size 432x288 with 1 Axes>"
      ]
     },
     "metadata": {
      "needs_background": "light"
     },
     "output_type": "display_data"
    }
   ],
   "source": [
    "fig = plt.figure()\n",
    "ax = fig.add_axes([0,0,1,1])\n",
    "ax.bar(k_neighbors, score_cosine, width =1.5, label = 'Accuracy', color = 'red')\n",
    "ax.set_ylabel('Accuracy')\n",
    "ax.set_xlabel('Neighbors')\n",
    "ax.set_title('Accuracy for Cosine Similarity distance metric for K = 1,3,5,7')\n",
    "ax.set_xticks(k_neighbors)\n",
    "plt.ylim((0.8,1))\n",
    "plt.grid(True)\n",
    "plt.legend(loc = 'upper left')\n",
    "plt.show()"
   ]
  },
  {
   "cell_type": "code",
   "execution_count": 188,
   "metadata": {},
   "outputs": [],
   "source": [
    "kevsnormal = []\n",
    "score_normalized_eucl = []\n",
    "for i in k_neighbors:\n",
    "    pred_normalized_eucl = []\n",
    "    for row in df_dev_normalized_list:\n",
    "        predict_only = row[:-1]\n",
    "        prediction = knn.predict(df_train_normalized_list,predict_only,i)\n",
    "        pred_normalized_eucl.append(prediction)\n",
    "\n",
    "    actual = np.array(df_dev_normalized_list)[:,-1]\n",
    "    score_normalized_eucl.append(knn.evaluate(actual, pred_normalized_eucl))\n",
    "    acc = knn.evaluate(actual, pred_normalized_eucl)\n",
    "    kevsnormal.append((i,acc))"
   ]
  },
  {
   "cell_type": "code",
   "execution_count": 189,
   "metadata": {},
   "outputs": [
    {
     "data": {
      "text/plain": [
       "[(1, 0.9333333333333333),\n",
       " (3, 0.9666666666666667),\n",
       " (5, 0.9666666666666667),\n",
       " (7, 0.9666666666666667)]"
      ]
     },
     "execution_count": 189,
     "metadata": {},
     "output_type": "execute_result"
    }
   ],
   "source": [
    "kevsnormal"
   ]
  },
  {
   "cell_type": "code",
   "execution_count": 190,
   "metadata": {},
   "outputs": [
    {
     "data": {
      "image/png": "[encoded data removed]",
      "text/plain": [
       "<Figure size 432x288 with 1 Axes>"
      ]
     },
     "metadata": {
      "needs_background": "light"
     },
     "output_type": "display_data"
    }
   ],
   "source": [
    "fig = plt.figure()\n",
    "ax = fig.add_axes([0,0,1,1])\n",
    "ax.bar(k_neighbors, score_normalized_eucl, width =1.5, label = 'Accuracy', color = 'b')\n",
    "ax.set_ylabel('Accuracy')\n",
    "ax.set_xlabel('Neighbors')\n",
    "ax.set_title('Accuracy for Normalized Euclidean distance metric for K = 1,3,5,7')\n",
    "ax.set_xticks(k_neighbors)\n",
    "plt.ylim((.8,1))\n",
    "plt.grid(True)\n",
    "plt.legend(loc = 'upper left')\n",
    "plt.show()"
   ]
  },
  {
   "cell_type": "code",
   "execution_count": 191,
   "metadata": {},
   "outputs": [],
   "source": [
    "kevseuctest = []\n",
    "score_euclidean_test = []\n",
    "for i in k_neighbors:\n",
    "    pred_euclidean_test = []\n",
    "    for row in df_test_list:\n",
    "        predict_only = row[:-1]\n",
    "        prediction = knn.predict(df_train_list,predict_only,i)\n",
    "        pred_euclidean_test.append(prediction)\n",
    "\n",
    "    actual = np.array(df_test_list)[:,-1]\n",
    "    score_euclidean_test.append(knn.evaluate(actual, pred_euclidean_test))\n",
    "    acc = knn.evaluate(actual, pred_euclidean_test)\n",
    "    kevseuctest.append((i,acc))"
   ]
  },
  {
   "cell_type": "code",
   "execution_count": 192,
   "metadata": {},
   "outputs": [
    {
     "data": {
      "text/plain": [
       "[(1, 0.9), (3, 1.0), (5, 1.0), (7, 1.0)]"
      ]
     },
     "execution_count": 192,
     "metadata": {},
     "output_type": "execute_result"
    }
   ],
   "source": [
    "kevseuctest"
   ]
  },
  {
   "cell_type": "code",
   "execution_count": 193,
   "metadata": {},
   "outputs": [
    {
     "data": {
      "image/png": "[encoded data removed]",
      "text/plain": [
       "<Figure size 432x288 with 1 Axes>"
      ]
     },
     "metadata": {
      "needs_background": "light"
     },
     "output_type": "display_data"
    }
   ],
   "source": [
    "fig = plt.figure()\n",
    "ax = fig.add_axes([0,0,1,1])\n",
    "ax.bar(k_neighbors, score_euclidean_test, width =1.5, label = 'Accuracy', color = 'black')\n",
    "ax.set_ylabel('Accuracy')\n",
    "ax.set_xlabel('Neighbors')\n",
    "ax.set_title('Accuracy for Euclidean distance metric for K = 1,3,5,7')\n",
    "ax.set_xticks(k_neighbors)\n",
    "plt.ylim((0.8,1))\n",
    "plt.grid(True)\n",
    "plt.legend(loc = 'upper left')\n",
    "plt.show()"
   ]
  },
  {
   "cell_type": "code",
   "execution_count": 194,
   "metadata": {},
   "outputs": [],
   "source": [
    "kevscostest = []\n",
    "score_cosine_test = []\n",
    "for i in k_neighbors:\n",
    "    pred_cosine_test = []\n",
    "    for row in df_test_list:\n",
    "        predict_only = row[:-1]\n",
    "        prediction = knn.predictCosine(df_train_list,predict_only,i)\n",
    "        pred_cosine_test.append(prediction)\n",
    "\n",
    "    actual = np.array(df_test_list)[:,-1]\n",
    "    score_cosine_test.append(knn.evaluate(actual, pred_cosine_test))\n",
    "    acc = knn.evaluate(actual, pred_cosine_test)\n",
    "    kevscostest.append((i,acc))"
   ]
  },
  {
   "cell_type": "code",
   "execution_count": 195,
   "metadata": {},
   "outputs": [
    {
     "data": {
      "text/plain": [
       "[(1, 0.9333333333333333),\n",
       " (3, 0.9333333333333333),\n",
       " (5, 0.9333333333333333),\n",
       " (7, 0.9666666666666667)]"
      ]
     },
     "execution_count": 195,
     "metadata": {},
     "output_type": "execute_result"
    }
   ],
   "source": [
    "kevscostest"
   ]
  },
  {
   "cell_type": "code",
   "execution_count": 196,
   "metadata": {},
   "outputs": [
    {
     "data": {
      "image/png": "[encoded data removed]",
      "text/plain": [
       "<Figure size 432x288 with 1 Axes>"
      ]
     },
     "metadata": {
      "needs_background": "light"
     },
     "output_type": "display_data"
    }
   ],
   "source": [
    "fig = plt.figure()\n",
    "ax = fig.add_axes([0,0,1,1])\n",
    "ax.bar(k_neighbors, score_cosine_test, width =1.5, label = 'Accuracy', color = 'red')\n",
    "ax.set_ylabel('Accuracy')\n",
    "ax.set_xlabel('Neighbors')\n",
    "ax.set_title('Accuracy for Cosine Similarity distance metric for K = 1,3,5,7')\n",
    "ax.set_xticks(k_neighbors)\n",
    "plt.ylim((0.8,1))\n",
    "plt.grid(True)\n",
    "plt.legend(loc = 'upper left')\n",
    "plt.show()"
   ]
  },
  {
   "cell_type": "code",
   "execution_count": 212,
   "metadata": {},
   "outputs": [],
   "source": [
    "kevsnormaltest = []\n",
    "score_normalized_eucl_test = []\n",
    "for i in k_neighbors:\n",
    "    pred_normalized_eucl_test = []\n",
    "    for row in df_test_normalized_list:\n",
    "        predict_only = row[:-1]\n",
    "        prediction = knn.predict(df_train_normalized_list,predict_only,i)\n",
    "        pred_normalized_eucl_test.append(prediction)\n",
    "\n",
    "    actual = np.array(df_test_normalized_list)[:,-1]\n",
    "    score_normalized_eucl_test.append(knn.evaluate(actual, pred_normalized_eucl_test))\n",
    "    acc = knn.evaluate(actual, pred_normalized_eucl_test)\n",
    "    kevsnormaltest.append((i,acc))"
   ]
  },
  {
   "cell_type": "code",
   "execution_count": 213,
   "metadata": {},
   "outputs": [
    {
     "data": {
      "text/plain": [
       "[(1, 0.9333333333333333), (3, 0.9), (5, 0.9), (7, 0.9)]"
      ]
     },
     "execution_count": 213,
     "metadata": {},
     "output_type": "execute_result"
    }
   ],
   "source": [
    "kevsnormaltest"
   ]
  },
  {
   "cell_type": "code",
   "execution_count": 215,
   "metadata": {},
   "outputs": [
    {
     "data": {
      "image/png": "[encoded data removed]",
      "text/plain": [
       "<Figure size 432x288 with 1 Axes>"
      ]
     },
     "metadata": {
      "needs_background": "light"
     },
     "output_type": "display_data"
    }
   ],
   "source": [
    "fig = plt.figure()\n",
    "ax = fig.add_axes([0,0,1,1])\n",
    "ax.bar(k_neighbors, score_normalized_eucl_test, width =1.5, label = 'Accuracy', color = 'blue')\n",
    "ax.set_ylabel('Accuracy')\n",
    "ax.set_xlabel('Neighbors')\n",
    "ax.set_title('Accuracy for Normalized Euclidean distance metric for K = 1,3,5,7')\n",
    "\n",
    "ax.set_xticks(k_neighbors)\n",
    "plt.ylim((.8,1))\n",
    "plt.grid(True)\n",
    "plt.legend(loc = 'upper left')\n",
    "plt.show()"
   ]
  },
  {
   "cell_type": "markdown",
   "metadata": {},
   "source": [
    "## Train vs Development and Train vs Test data Graph representation"
   ]
  },
  {
   "cell_type": "code",
   "execution_count": 216,
   "metadata": {},
   "outputs": [],
   "source": [
    "k_neighbors = np.array(k_neighbors)"
   ]
  },
  {
   "cell_type": "code",
   "execution_count": 217,
   "metadata": {},
   "outputs": [
    {
     "data": {
      "image/png": "[encoded data removed]",
      "text/plain": [
       "<Figure size 432x288 with 1 Axes>"
      ]
     },
     "metadata": {
      "needs_background": "light"
     },
     "output_type": "display_data"
    }
   ],
   "source": [
    "fig = plt.figure()\n",
    "ax = fig.add_axes([0,0,1,1])\n",
    "ax.bar(k_neighbors+0.5, score_cosine, width =0.5, label = 'Cosine', color='blue')\n",
    "ax.bar(k_neighbors, score_normalized_eucl, width =0.5, label = 'Normalized Euclidean', color='red')\n",
    "ax.bar(k_neighbors-0.5, score_euclidean, width =0.5, label = 'Euclidean', color = 'green')\n",
    "ax.set_ylabel('Accuracy')\n",
    "ax.set_xlabel('Neighbors')\n",
    "ax.set_title('Train v/s Development data')\n",
    "ax.set_xticks(k_neighbors)\n",
    "plt.ylim((.8,1))\n",
    "plt.grid(True)\n",
    "plt.legend(loc = 'best')\n",
    "plt.show()"
   ]
  },
  {
   "cell_type": "code",
   "execution_count": 218,
   "metadata": {},
   "outputs": [
    {
     "data": {
      "image/png": "[encoded data removed]",
      "text/plain": [
       "<Figure size 432x288 with 1 Axes>"
      ]
     },
     "metadata": {
      "needs_background": "light"
     },
     "output_type": "display_data"
    }
   ],
   "source": [
    "fig = plt.figure()\n",
    "ax = fig.add_axes([0,0,1,1])\n",
    "ax.bar(k_neighbors+0.5, score_cosine_test, width =0.5, label = 'Cosine', color = 'blue')\n",
    "ax.bar(k_neighbors, score_normalized_eucl_test, width =0.5, label = 'Normalized Euclidean', color = 'red')\n",
    "ax.bar(k_neighbors-0.5, score_euclidean_test, width =0.5, label = 'Euclidean', color = 'green')\n",
    "ax.set_ylabel('Accuracy')\n",
    "ax.set_xlabel('Neighbors')\n",
    "ax.set_title('Train v/s Test data')\n",
    "ax.set_xticks(k_neighbors)\n",
    "plt.ylim((.8,1))\n",
    "plt.grid(True)\n",
    "plt.legend(loc = 'best')\n",
    "plt.show()"
   ]
  },
  {
   "cell_type": "markdown",
   "metadata": {},
   "source": [
    "## The optimal parameters will change for each iteration as the data is split into train, development and test randomly. For this iteration, from the above inferences it can be observed that Cosine similarity for k = 7 seems to be the best hyperparameter"
   ]
  },
  {
   "cell_type": "code",
   "execution_count": 221,
   "metadata": {},
   "outputs": [],
   "source": [
    "score_cosine_final = []\n",
    "pred_cosine_final = []\n",
    "for row in df_test_list:\n",
    "    predict_only = row[:-1]\n",
    "    prediction = knn.predictCosine(df_train_list,predict_only,7)\n",
    "    pred_cosine_final.append(prediction)\n",
    "\n",
    "actual = np.array(df_test_list)[:,-1]\n",
    "score_cosine_final.append(knn.evaluate(actual, pred_cosine_final))"
   ]
  },
  {
   "cell_type": "code",
   "execution_count": 236,
   "metadata": {},
   "outputs": [
    {
     "name": "stdout",
     "output_type": "stream",
     "text": [
      "Final accuracy is : 96.66666666666667 %\n"
     ]
    }
   ],
   "source": [
    "print('Final accuracy is : %s' %(score_cosine_final[0]*100),'%')"
   ]
  }
 ],
 "metadata": {
  "kernelspec": {
   "display_name": "Python 3",
   "language": "python",
   "name": "python3"
  },
  "language_info": {
   "codemirror_mode": {
    "name": "ipython",
    "version": 3
   },
   "file_extension": ".py",
   "mimetype": "text/x-python",
   "name": "python",
   "nbconvert_exporter": "python",
   "pygments_lexer": "ipython3",
   "version": "3.8.3"
  }
 },
 "nbformat": 4,
 "nbformat_minor": 4
}
